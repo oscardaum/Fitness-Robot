{
 "cells": [
  {
   "cell_type": "code",
   "execution_count": 1,
   "id": "cc0f15bd",
   "metadata": {},
   "outputs": [],
   "source": [
    "import numpy as np\n",
    "import matplotlib.pyplot as plt\n",
    "import pandas as pd\n",
    "from scipy.stats import f_oneway\n",
    "import os"
   ]
  },
  {
   "cell_type": "markdown",
   "id": "b4902658",
   "metadata": {},
   "source": [
    "- create a bunch of empty dataframes for each metric\n",
    "- load in a user's file\n",
    "    - user as a column, each row is a different time \n",
    "    - make sure to include whether its level 1, 2, or 3\n",
    "    - shape\n",
    "        - columns: participant ID, e-level, heart rate 1 sec, 2 sec, etc\n",
    "- data analysis\n",
    "    - across group\n",
    "    - changes across users?"
   ]
  },
  {
   "cell_type": "code",
   "execution_count": 85,
   "id": "29b0b096",
   "metadata": {},
   "outputs": [
    {
     "name": "stdout",
     "output_type": "stream",
     "text": [
      "82.14376098418276\n",
      "97.795\n",
      "103.09357827476039\n"
     ]
    },
    {
     "data": {
      "text/html": [
       "<div>\n",
       "<style scoped>\n",
       "    .dataframe tbody tr th:only-of-type {\n",
       "        vertical-align: middle;\n",
       "    }\n",
       "\n",
       "    .dataframe tbody tr th {\n",
       "        vertical-align: top;\n",
       "    }\n",
       "\n",
       "    .dataframe thead th {\n",
       "        text-align: right;\n",
       "    }\n",
       "</style>\n",
       "<table border=\"1\" class=\"dataframe\">\n",
       "  <thead>\n",
       "    <tr style=\"text-align: right;\">\n",
       "      <th></th>\n",
       "      <th>participant ID</th>\n",
       "      <th>encouragement-level</th>\n",
       "      <th>mean HR</th>\n",
       "      <th>1</th>\n",
       "      <th>2</th>\n",
       "      <th>3</th>\n",
       "      <th>4</th>\n",
       "      <th>5</th>\n",
       "      <th>6</th>\n",
       "      <th>7</th>\n",
       "      <th>...</th>\n",
       "      <th>1061</th>\n",
       "      <th>1062</th>\n",
       "      <th>1063</th>\n",
       "      <th>1064</th>\n",
       "      <th>1065</th>\n",
       "      <th>1066</th>\n",
       "      <th>1067</th>\n",
       "      <th>1068</th>\n",
       "      <th>1069</th>\n",
       "      <th>1070</th>\n",
       "    </tr>\n",
       "  </thead>\n",
       "  <tbody>\n",
       "    <tr>\n",
       "      <th>0</th>\n",
       "      <td>1682194059_A0348F-20230423T142754Z-001</td>\n",
       "      <td>NaN</td>\n",
       "      <td>82.143761</td>\n",
       "      <td>60.0</td>\n",
       "      <td>57.5</td>\n",
       "      <td>71.00</td>\n",
       "      <td>72.75</td>\n",
       "      <td>70.6</td>\n",
       "      <td>71.83</td>\n",
       "      <td>72.86</td>\n",
       "      <td>...</td>\n",
       "      <td>NaN</td>\n",
       "      <td>NaN</td>\n",
       "      <td>NaN</td>\n",
       "      <td>NaN</td>\n",
       "      <td>NaN</td>\n",
       "      <td>NaN</td>\n",
       "      <td>NaN</td>\n",
       "      <td>NaN</td>\n",
       "      <td>NaN</td>\n",
       "      <td>NaN</td>\n",
       "    </tr>\n",
       "    <tr>\n",
       "      <th>1</th>\n",
       "      <td>1682194865_A0348F-20230423T142752Z-001</td>\n",
       "      <td>NaN</td>\n",
       "      <td>97.795</td>\n",
       "      <td>55.0</td>\n",
       "      <td>55.5</td>\n",
       "      <td>59.00</td>\n",
       "      <td>65.75</td>\n",
       "      <td>70.2</td>\n",
       "      <td>71.17</td>\n",
       "      <td>72.43</td>\n",
       "      <td>...</td>\n",
       "      <td>123.03</td>\n",
       "      <td>123.22</td>\n",
       "      <td>123.33</td>\n",
       "      <td>123.43</td>\n",
       "      <td>123.55</td>\n",
       "      <td>123.65</td>\n",
       "      <td>123.77</td>\n",
       "      <td>123.03</td>\n",
       "      <td>121.88</td>\n",
       "      <td>120.73</td>\n",
       "    </tr>\n",
       "    <tr>\n",
       "      <th>2</th>\n",
       "      <td>1682196247_A0348F-20230423T142750Z-001</td>\n",
       "      <td>NaN</td>\n",
       "      <td>103.093578</td>\n",
       "      <td>85.0</td>\n",
       "      <td>84.5</td>\n",
       "      <td>84.67</td>\n",
       "      <td>75.75</td>\n",
       "      <td>89.0</td>\n",
       "      <td>97.83</td>\n",
       "      <td>104.29</td>\n",
       "      <td>...</td>\n",
       "      <td>NaN</td>\n",
       "      <td>NaN</td>\n",
       "      <td>NaN</td>\n",
       "      <td>NaN</td>\n",
       "      <td>NaN</td>\n",
       "      <td>NaN</td>\n",
       "      <td>NaN</td>\n",
       "      <td>NaN</td>\n",
       "      <td>NaN</td>\n",
       "      <td>NaN</td>\n",
       "    </tr>\n",
       "  </tbody>\n",
       "</table>\n",
       "<p>3 rows × 1073 columns</p>\n",
       "</div>"
      ],
      "text/plain": [
       "                           participant ID encouragement-level     mean HR   \n",
       "0  1682194059_A0348F-20230423T142754Z-001                 NaN   82.143761  \\\n",
       "1  1682194865_A0348F-20230423T142752Z-001                 NaN      97.795   \n",
       "2  1682196247_A0348F-20230423T142750Z-001                 NaN  103.093578   \n",
       "\n",
       "      1     2      3      4     5      6       7  ...    1061    1062    1063   \n",
       "0  60.0  57.5  71.00  72.75  70.6  71.83   72.86  ...     NaN     NaN     NaN  \\\n",
       "1  55.0  55.5  59.00  65.75  70.2  71.17   72.43  ...  123.03  123.22  123.33   \n",
       "2  85.0  84.5  84.67  75.75  89.0  97.83  104.29  ...     NaN     NaN     NaN   \n",
       "\n",
       "     1064    1065    1066    1067    1068    1069    1070  \n",
       "0     NaN     NaN     NaN     NaN     NaN     NaN     NaN  \n",
       "1  123.43  123.55  123.65  123.77  123.03  121.88  120.73  \n",
       "2     NaN     NaN     NaN     NaN     NaN     NaN     NaN  \n",
       "\n",
       "[3 rows x 1073 columns]"
      ]
     },
     "execution_count": 85,
     "metadata": {},
     "output_type": "execute_result"
    }
   ],
   "source": [
    "# create pandas dataframes\n",
    "HR_df = pd.DataFrame(columns = [\"participant ID\",\"encouragement-level\", \"mean HR\"])\n",
    "\n",
    "folders = os.listdir('.\\exercise_data')\n",
    "for f in folders:\n",
    "    f_name = f.split('-')\n",
    "    HR_file = f'.\\exercise_data\\{f}\\{f_name[0]}\\HR.csv'\n",
    "    HR_row = pd.read_csv(HR_file).transpose()\n",
    "    HR_row = HR_row.drop(0, axis=1)\n",
    "    mean = HR_row.iloc[0].mean()\n",
    "    HR_df = pd.concat([HR_df, HR_row], ignore_index=True)\n",
    "    HR_df.at[HR_df.shape[0]-1, \"participant ID\"] = f\n",
    "    HR_df.at[HR_df.shape[0]-1, \"mean HR\"] = mean\n",
    "\n",
    "HR_df\n",
    "\n",
    "# still missing the encouragement level!"
   ]
  },
  {
   "cell_type": "code",
   "execution_count": 98,
   "id": "29a24b82",
   "metadata": {},
   "outputs": [],
   "source": [
    "HR_df.at[0, \"encouragement-level\"] = 1\n",
    "HR_df.at[1, \"encouragement-level\"] = 2\n",
    "HR_df.at[2, \"encouragement-level\"] = 3"
   ]
  },
  {
   "cell_type": "code",
   "execution_count": 109,
   "id": "d9bb01a3",
   "metadata": {},
   "outputs": [
    {
     "name": "stdout",
     "output_type": "stream",
     "text": [
      "F-statistic: nan\n",
      "p-value: nan\n"
     ]
    },
    {
     "name": "stderr",
     "output_type": "stream",
     "text": [
      "c:\\python39\\lib\\site-packages\\scipy\\stats\\_stats_py.py:3869: DegenerateDataWarning: all input arrays have length 1.  f_oneway requires that at least one input has length greater than 1.\n",
      "  warnings.warn(stats.DegenerateDataWarning(msg))\n"
     ]
    }
   ],
   "source": [
    "# Compute the mean heart rate for each session\n",
    "groups = HR_df.groupby('encouragement-level')['mean HR']\n",
    "\n",
    "# Perform ANOVA test\n",
    "group_list = []\n",
    "for group_name, group_data in groups:\n",
    "    group_array = group_data.to_numpy()\n",
    "    group_list.append(group_array)\n",
    "\n",
    "# perform ANOVA test\n",
    "f_statistic, p_value = f_oneway(*group_list)\n",
    "# Print the F-statistic and p-value\n",
    "print('F-statistic:', f_statistic)\n",
    "print('p-value:', p_value)\n"
   ]
  },
  {
   "cell_type": "code",
   "execution_count": 105,
   "id": "716c24e5",
   "metadata": {},
   "outputs": [
    {
     "name": "stdout",
     "output_type": "stream",
     "text": [
      "we cannot reject the null, therefore there is not a significant difference across the encouragement levels\n"
     ]
    }
   ],
   "source": [
    "if f_statistic < .05:\n",
    "    print(\"we reject the null, therefore there is a significant difference across the encouragement levels\")\n",
    "else: \n",
    "    print(\"we cannot reject the null, therefore there is not a significant difference across the encouragement levels\")"
   ]
  },
  {
   "cell_type": "code",
   "execution_count": 110,
   "id": "5665cf13",
   "metadata": {},
   "outputs": [
    {
     "name": "stdout",
     "output_type": "stream",
     "text": [
      "encouragement-level\n",
      "1     82.143761\n",
      "2        97.795\n",
      "3    103.093578\n",
      "Name: mean HR, dtype: object\n"
     ]
    }
   ],
   "source": [
    "print(groups.mean())"
   ]
  },
  {
   "cell_type": "code",
   "execution_count": null,
   "id": "1215e1d0",
   "metadata": {},
   "outputs": [],
   "source": []
  }
 ],
 "metadata": {
  "kernelspec": {
   "display_name": "Python 3 (ipykernel)",
   "language": "python",
   "name": "python3"
  },
  "language_info": {
   "codemirror_mode": {
    "name": "ipython",
    "version": 3
   },
   "file_extension": ".py",
   "mimetype": "text/x-python",
   "name": "python",
   "nbconvert_exporter": "python",
   "pygments_lexer": "ipython3",
   "version": "3.9.2"
  }
 },
 "nbformat": 4,
 "nbformat_minor": 5
}
